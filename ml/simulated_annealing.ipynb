{
 "cells": [
  {
   "cell_type": "code",
   "execution_count": 1,
   "metadata": {},
   "outputs": [],
   "source": [
    "import sys\n",
    "import six\n",
    "sys.modules['sklearn.externals.six'] = six\n",
    "import mlrose\n",
    "import numpy as np\n",
    "import pandas as pd\n",
    "from fitness import Fitness"
   ]
  },
  {
   "cell_type": "code",
   "execution_count": 2,
   "metadata": {},
   "outputs": [],
   "source": [
    "fitness_obj = Fitness()\n",
    "fitness = mlrose.CustomFitness(fitness_obj.fitness_function)\n",
    "problema_maximizacao = mlrose.ContinuousOpt(length=21, fitness_fn=fitness,\n",
    "                                            maximize = True, min_val = 0, max_val = 1)\n",
    "problema_minimizacao = mlrose.ContinuousOpt(length=21, fitness_fn=fitness,\n",
    "                                            maximize = False, min_val = 0, max_val = 1)"
   ]
  },
  {
   "cell_type": "code",
   "execution_count": 3,
   "metadata": {},
   "outputs": [],
   "source": [
    "melhor_solucao, melhor_custo = mlrose.simulated_annealing(problema_maximizacao, random_state = 1) \n",
    "melhor_solucao = melhor_solucao / melhor_solucao.sum()\n",
    "melhor_solucao, melhor_custo"
   ]
  },
  {
   "cell_type": "code",
   "execution_count": null,
   "metadata": {},
   "outputs": [],
   "source": [
    "melhor_solucao = melhor_solucao / melhor_solucao.sum()\n",
    "melhor_solucao, melhor_solucao.sum()"
   ]
  },
  {
   "cell_type": "code",
   "execution_count": null,
   "metadata": {},
   "outputs": [],
   "source": [
    "fitness_obj.visualiza_alocacao(melhor_solucao)"
   ]
  },
  {
   "cell_type": "code",
   "execution_count": null,
   "metadata": {},
   "outputs": [],
   "source": [
    "dataset = pd.read_csv('excel/acoes.csv')\n",
    "dataset.drop(columns=[\"BOVA11.SA\"], inplace=True)\n",
    "_, _, _, soma_valor = fitness_obj.alocacao_ativos(dataset, 5000, melhores_pesos=melhor_solucao)\n",
    "soma_valor"
   ]
  }
 ],
 "metadata": {
  "kernelspec": {
   "display_name": "Python 3 (ipykernel)",
   "language": "python",
   "name": "python3"
  },
  "language_info": {
   "codemirror_mode": {
    "name": "ipython",
    "version": 3
   },
   "file_extension": ".py",
   "mimetype": "text/x-python",
   "name": "python",
   "nbconvert_exporter": "python",
   "pygments_lexer": "ipython3",
   "version": "3.11.5"
  }
 },
 "nbformat": 4,
 "nbformat_minor": 2
}
