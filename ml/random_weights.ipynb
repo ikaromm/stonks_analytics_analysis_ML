{
 "cells": [
  {
   "cell_type": "code",
   "execution_count": 8,
   "metadata": {},
   "outputs": [],
   "source": [
    "import pandas as pd\n",
    "import numpy as np\n",
    "from fitness import Fitness \n",
    "dataset = pd.read_csv('excel/acoes.csv')\n",
    "dataset.drop(columns=[\"BOVA11.SA\"], inplace=True)\n",
    "dataset_original = dataset.copy()"
   ]
  },
  {
   "cell_type": "code",
   "execution_count": 19,
   "metadata": {},
   "outputs": [
    {
     "data": {
      "text/plain": [
       "array([0.08243191, 0.06722338, 0.00425515, 0.04022427, 0.06460437,\n",
       "       0.03438242, 0.05877055, 0.07725431, 0.01826133, 0.00579036,\n",
       "       0.03875132, 0.01239614, 0.02052218, 0.10161443, 0.04191151,\n",
       "       0.02509533, 0.08631986, 0.0122603 , 0.08541445, 0.05388971,\n",
       "       0.06862672])"
      ]
     },
     "execution_count": 19,
     "metadata": {},
     "output_type": "execute_result"
    }
   ],
   "source": [
    "#np.random.seed(10)\n",
    "pesos = np.random.random(len(dataset_original.columns) - 1)\n",
    "pesos = pesos / pesos.sum()\n",
    "pesos"
   ]
  },
  {
   "cell_type": "code",
   "execution_count": 20,
   "metadata": {},
   "outputs": [
    {
     "name": "stdout",
     "output_type": "stream",
     "text": [
      "VALE3.SA 8.24319051416955\n",
      "KEPL3.SA 6.7223377883807345\n",
      "VULC3.SA 0.42551505627970365\n",
      "LEVE3.SA 4.022427127470423\n",
      "GGBR4.SA 6.460436893657217\n",
      "LREN3.SA 3.438242107443383\n",
      "ALSO3.SA 5.87705471135453\n",
      "DIRR3.SA 7.725430641108812\n",
      "MILS3.SA 1.8261329540299143\n",
      "RANI3.SA 0.5790362155270112\n",
      "CSUD3.SA 3.8751319582316515\n",
      "CLSC4.SA 1.2396142261496501\n",
      "CMIG4.SA 2.052218434529977\n",
      "ITSA4.SA 10.161443026419246\n",
      "BBAS3.SA 4.191151247126297\n",
      "TASA4.SA 2.5095329407194127\n",
      "SLCE3.SA 8.631985851816141\n",
      "B3SA3.SA 1.226030240214066\n",
      "PETR4.SA 8.541444985326507\n",
      "SUZB3.SA 5.388970956744668\n",
      "KLBN4.SA 6.862672123301092\n"
     ]
    }
   ],
   "source": [
    "obj_fit = Fitness()\n",
    "obj_fit.visualiza_alocacao(pesos)    "
   ]
  },
  {
   "cell_type": "code",
   "execution_count": 21,
   "metadata": {},
   "outputs": [
    {
     "data": {
      "text/plain": [
       "20600.777379847514"
      ]
     },
     "execution_count": 21,
     "metadata": {},
     "output_type": "execute_result"
    }
   ],
   "source": [
    "_, _, _, soma_valor = obj_fit.alocacao_ativos(dataset, 5000, melhores_pesos=pesos)\n",
    "soma_valor"
   ]
  }
 ],
 "metadata": {
  "kernelspec": {
   "display_name": "Python 3 (ipykernel)",
   "language": "python",
   "name": "python3"
  },
  "language_info": {
   "codemirror_mode": {
    "name": "ipython",
    "version": 3
   },
   "file_extension": ".py",
   "mimetype": "text/x-python",
   "name": "python",
   "nbconvert_exporter": "python",
   "pygments_lexer": "ipython3",
   "version": "3.11.5"
  }
 },
 "nbformat": 4,
 "nbformat_minor": 2
}
