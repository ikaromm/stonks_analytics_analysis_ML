{
 "cells": [
  {
   "cell_type": "code",
   "execution_count": 1,
   "metadata": {},
   "outputs": [],
   "source": [
    "import sys\n",
    "import six\n",
    "sys.modules['sklearn.externals.six'] = six\n",
    "import mlrose\n",
    "import numpy as np\n",
    "import pandas as pd\n",
    "from fitness import Fitness"
   ]
  },
  {
   "cell_type": "code",
   "execution_count": 2,
   "metadata": {},
   "outputs": [],
   "source": [
    "fitness_obj = Fitness()\n",
    "fitness = mlrose.CustomFitness(fitness_obj.fitness_function)"
   ]
  },
  {
   "cell_type": "code",
   "execution_count": 3,
   "metadata": {},
   "outputs": [
    {
     "data": {
      "text/plain": [
       "(array([0.0252684 , 0.07314789, 0.06323373, 0.04335732, 0.02730799,\n",
       "        0.0423351 , 0.02299198, 0.02815509, 0.06033699, 0.07060481,\n",
       "        0.04670725, 0.05560413, 0.03238757, 0.04966979, 0.04885172,\n",
       "        0.03866441, 0.03173614, 0.07355055, 0.06723352, 0.05620272,\n",
       "        0.04265289]),\n",
       " 0.050391453487526806)"
      ]
     },
     "execution_count": 3,
     "metadata": {},
     "output_type": "execute_result"
    }
   ],
   "source": [
    "problema_maximizacao_ag = mlrose.ContinuousOpt(length = 21, fitness_fn = fitness, \n",
    "                                               maximize = True, min_val = 0.05, max_val = 0.2)\n",
    "melhor_solucao, melhor_custo = mlrose.genetic_alg(problema_maximizacao_ag, random_state = 1, pop_size=20, mutation_prob= 0.1, max_attempts = 20)\n",
    "melhor_solucao = melhor_solucao / melhor_solucao.sum()\n",
    "melhor_solucao, melhor_custo"
   ]
  },
  {
   "cell_type": "code",
   "execution_count": 4,
   "metadata": {},
   "outputs": [
    {
     "name": "stdout",
     "output_type": "stream",
     "text": [
      "VALE3.SA 2.5268399796372227\n",
      "KEPL3.SA 7.314788722303535\n",
      "VULC3.SA 6.3233732431302245\n",
      "LEVE3.SA 4.335732155826628\n",
      "GGBR4.SA 2.7307993347793156\n",
      "LREN3.SA 4.233509973780189\n",
      "ALSO3.SA 2.2991984784280586\n",
      "DIRR3.SA 2.81550938254652\n",
      "MILS3.SA 6.033699225340089\n",
      "RANI3.SA 7.060480841822087\n",
      "CSUD3.SA 4.670724505836427\n",
      "CLSC4.SA 5.560412946741664\n",
      "CMIG4.SA 3.238756882651792\n",
      "ITSA4.SA 4.9669791200243285\n",
      "BBAS3.SA 4.885172211575914\n",
      "TASA4.SA 3.8664414687630737\n",
      "SLCE3.SA 3.1736139609507803\n",
      "B3SA3.SA 7.355055118614258\n",
      "PETR4.SA 6.723352110434641\n",
      "SUZB3.SA 5.6202717971917675\n",
      "KLBN4.SA 4.265288539621488\n"
     ]
    }
   ],
   "source": [
    "fitness_obj.visualiza_alocacao(melhor_solucao)"
   ]
  },
  {
   "cell_type": "code",
   "execution_count": 5,
   "metadata": {},
   "outputs": [
    {
     "data": {
      "text/plain": [
       "23735.106504020467"
      ]
     },
     "execution_count": 5,
     "metadata": {},
     "output_type": "execute_result"
    }
   ],
   "source": [
    "dataset = pd.read_csv('excel/acoes.csv')\n",
    "dataset.drop(columns=[\"BOVA11.SA\"], inplace=True)\n",
    "_, _, _, soma_valor = fitness_obj.alocacao_ativos(dataset, 5000, melhores_pesos=melhor_solucao)\n",
    "soma_valor"
   ]
  }
 ],
 "metadata": {
  "kernelspec": {
   "display_name": "Python 3 (ipykernel)",
   "language": "python",
   "name": "python3"
  },
  "language_info": {
   "codemirror_mode": {
    "name": "ipython",
    "version": 3
   },
   "file_extension": ".py",
   "mimetype": "text/x-python",
   "name": "python",
   "nbconvert_exporter": "python",
   "pygments_lexer": "ipython3",
   "version": "3.11.5"
  }
 },
 "nbformat": 4,
 "nbformat_minor": 2
}
