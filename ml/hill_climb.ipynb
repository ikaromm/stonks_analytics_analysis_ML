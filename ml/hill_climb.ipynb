{
 "cells": [
  {
   "cell_type": "code",
   "execution_count": 1,
   "metadata": {},
   "outputs": [],
   "source": [
    "import sys\n",
    "import six\n",
    "sys.modules['sklearn.externals.six'] = six\n",
    "import mlrose\n",
    "import numpy as np\n",
    "import pandas as pd\n",
    "from fitness import Fitness\n"
   ]
  },
  {
   "cell_type": "code",
   "execution_count": 2,
   "metadata": {},
   "outputs": [],
   "source": [
    "fitness_obj = Fitness()\n",
    "fitness = mlrose.CustomFitness(fitness_obj.fitness_function)\n",
    "problema_maximizacao = mlrose.ContinuousOpt(length=21, fitness_fn=fitness,\n",
    "                                            maximize = True, min_val = 0, max_val = 1)\n",
    "problema_minimizacao = mlrose.ContinuousOpt(length=21, fitness_fn=fitness,\n",
    "                                            maximize = False, min_val = 0, max_val = 1)"
   ]
  },
  {
   "cell_type": "code",
   "execution_count": 3,
   "metadata": {},
   "outputs": [],
   "source": [
    "# dataset = pd.read_csv('excel/acoes.csv')\n",
    "# dataset.drop(columns=[\"BOVA11.SA\"], inplace=True)\n",
    "# dinheiro_total = 5000\n",
    "# taxas_selic = [12.5, 9.25, 7.25, 7.75, 9.5, 14.25, 14.25, 14.25, 6.5, 5.25, 2.25, 7.75, 11.75, 12.5]\n",
    "\n",
    "# valores = [dinheiro_total]\n",
    "\n",
    "# for taxa in taxas_selic:\n",
    "#     novo_valor = valores[-1] + (valores[-1] * taxa / 100)\n",
    "#     valores.append(novo_valor)\n",
    "\n",
    "# valor_2023 = valores[-1]\n",
    "# taxa_selic_historico = np.array(taxas_selic)\n",
    "# dataset_original = dataset.copy()\n",
    "# sem_risco = taxa_selic_historico.mean() / 100\n",
    "# rf = sem_risco"
   ]
  },
  {
   "cell_type": "code",
   "execution_count": 4,
   "metadata": {},
   "outputs": [
    {
     "data": {
      "text/plain": [
       "(array([0.        , 0.52032449, 0.30011437, 0.00233257, 0.        ,\n",
       "        0.        , 0.        , 0.        , 0.        , 0.63881673,\n",
       "        0.01919451, 0.0852195 , 0.        , 0.        , 0.12738759,\n",
       "        0.        , 0.2173048 , 0.        , 0.9       , 0.        ,\n",
       "        0.        ]),\n",
       " 0.08358498955975438)"
      ]
     },
     "execution_count": 4,
     "metadata": {},
     "output_type": "execute_result"
    }
   ],
   "source": [
    "melhor_solucao, melhor_custo = mlrose.hill_climb(problema_maximizacao, random_state = 1) ## hill climb\n",
    "melhor_solucao, melhor_custo"
   ]
  },
  {
   "cell_type": "code",
   "execution_count": 5,
   "metadata": {},
   "outputs": [
    {
     "data": {
      "text/plain": [
       "(array([0.        , 0.1851231 , 0.10677588, 0.00082989, 0.        ,\n",
       "        0.        , 0.        , 0.        , 0.        , 0.22728074,\n",
       "        0.0068291 , 0.03031973, 0.        , 0.        , 0.04532246,\n",
       "        0.        , 0.07731356, 0.        , 0.32020555, 0.        ,\n",
       "        0.        ]),\n",
       " 1.0)"
      ]
     },
     "execution_count": 5,
     "metadata": {},
     "output_type": "execute_result"
    }
   ],
   "source": [
    "melhor_solucao = melhor_solucao / melhor_solucao.sum()\n",
    "melhor_solucao, melhor_solucao.sum()"
   ]
  },
  {
   "cell_type": "code",
   "execution_count": 6,
   "metadata": {},
   "outputs": [
    {
     "name": "stdout",
     "output_type": "stream",
     "text": [
      "VALE3.SA 0.0\n",
      "KEPL3.SA 18.512309952525907\n",
      "VULC3.SA 10.677587539793256\n",
      "LEVE3.SA 0.08298918865367011\n",
      "GGBR4.SA 0.0\n",
      "LREN3.SA 0.0\n",
      "ALSO3.SA 0.0\n",
      "DIRR3.SA 0.0\n",
      "MILS3.SA 0.0\n",
      "RANI3.SA 22.728073599796957\n",
      "CSUD3.SA 0.6829100003948155\n",
      "CLSC4.SA 3.031972980759924\n",
      "CMIG4.SA 0.0\n",
      "ITSA4.SA 0.0\n",
      "BBAS3.SA 4.532246010149518\n",
      "TASA4.SA 0.0\n",
      "SLCE3.SA 7.7313559255688515\n",
      "B3SA3.SA 0.0\n",
      "PETR4.SA 32.02055480235709\n",
      "SUZB3.SA 0.0\n",
      "KLBN4.SA 0.0\n"
     ]
    }
   ],
   "source": [
    "fitness_obj.visualiza_alocacao(melhor_solucao)"
   ]
  },
  {
   "cell_type": "code",
   "execution_count": 10,
   "metadata": {},
   "outputs": [
    {
     "data": {
      "text/plain": [
       "42100.46125170578"
      ]
     },
     "execution_count": 10,
     "metadata": {},
     "output_type": "execute_result"
    }
   ],
   "source": [
    "dataset = pd.read_csv('excel/acoes.csv')\n",
    "dataset.drop(columns=[\"BOVA11.SA\"], inplace=True)\n",
    "_, _, _, soma_valor = fitness_obj.alocacao_ativos(dataset, 5000, melhores_pesos=melhor_solucao)\n",
    "soma_valor"
   ]
  }
 ],
 "metadata": {
  "kernelspec": {
   "display_name": "Python 3 (ipykernel)",
   "language": "python",
   "name": "python3"
  },
  "language_info": {
   "codemirror_mode": {
    "name": "ipython",
    "version": 3
   },
   "file_extension": ".py",
   "mimetype": "text/x-python",
   "name": "python",
   "nbconvert_exporter": "python",
   "pygments_lexer": "ipython3",
   "version": "3.11.5"
  }
 },
 "nbformat": 4,
 "nbformat_minor": 2
}
