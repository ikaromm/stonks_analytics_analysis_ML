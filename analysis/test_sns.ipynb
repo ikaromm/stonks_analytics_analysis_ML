{
 "cells": [
  {
   "cell_type": "code",
   "execution_count": 1,
   "metadata": {},
   "outputs": [],
   "source": [
    "import pandas as pd\n",
    "import numpy as np\n",
    "from pandas_datareader import data\n",
    "import matplotlib.pyplot as plt\n",
    "import seaborn as sns\n",
    "from scipy import stats\n",
    "import plotly.express as px\n",
    "from scipy.stats import norm\n",
    "import math\n",
    "from sklearn.metrics import mean_absolute_error\n",
    "import datetime\n",
    "from statsmodels.tsa.seasonal import seasonal_decompose\n",
    "from pmdarima.arima import auto_arima\n",
    "from prophet import Prophet\n",
    "from prophet.plot import plot_plotly, plot_components_plotly\n",
    "\n",
    "import yfinance as yf\n",
    "\n",
    "#pesos para uso das empresas\n",
    "pesos = np.array([0.04579877, 0.10065911, 0.05203524, 0.07009186, 0.09986174,\n",
    "         0.05894185, 0.01878224, 0.02098791, 0.01420743, 0.01101616,\n",
    "         0.01289593, 0.06706893, 0.09493909, 0.01703658,\n",
    "        0.02083494, 0.02857037, 0.0379588 , 0.01738156, 0.06394153,\n",
    "       0.01380989000000001 , 0.13318007])  \n"
   ]
  }
 ],
 "metadata": {
  "kernelspec": {
   "display_name": "Python 3 (ipykernel)",
   "language": "python",
   "name": "python3"
  },
  "language_info": {
   "codemirror_mode": {
    "name": "ipython",
    "version": 3
   },
   "file_extension": ".py",
   "mimetype": "text/x-python",
   "name": "python",
   "nbconvert_exporter": "python",
   "pygments_lexer": "ipython3",
   "version": "3.11.5"
  }
 },
 "nbformat": 4,
 "nbformat_minor": 2
}
