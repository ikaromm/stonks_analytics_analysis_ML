{
 "cells": [
  {
   "cell_type": "code",
   "execution_count": 6,
   "metadata": {},
   "outputs": [
    {
     "data": {
      "text/plain": [
       "[5000,\n",
       " 5625.0,\n",
       " 6145.3125,\n",
       " 6590.84765625,\n",
       " 7101.638349609375,\n",
       " 7776.293992822266,\n",
       " 8884.41588679944,\n",
       " 10150.44515066836,\n",
       " 11596.883584638601,\n",
       " 12350.68101764011,\n",
       " 12999.091771066216,\n",
       " 13291.571335915207,\n",
       " 14321.668114448636,\n",
       " 16004.46411789635,\n",
       " 18005.022132633392]"
      ]
     },
     "execution_count": 6,
     "metadata": {},
     "output_type": "execute_result"
    }
   ],
   "source": [
    "import pandas as pd\n",
    "import numpy as np\n",
    "\n",
    "dataset = pd.read_csv(\"excel/data.csv\", sep=\";\", encoding=\"utf-8\")\n"
   ]
  },
  {
   "cell_type": "code",
   "execution_count": 7,
   "metadata": {},
   "outputs": [],
   "source": [
    "dinheiro_total = 5000\n",
    "taxas_selic = [12.5, 9.25, 7.25, 7.75, 9.5, 14.25, 14.25, 14.25, 6.5, 5.25, 2.25, 7.75, 11.75, 12.5]\n",
    "\n",
    "valores = [dinheiro_total]\n",
    "\n",
    "for taxa in taxas_selic:\n",
    "    novo_valor = valores[-1] + (valores[-1] * taxa / 100)\n",
    "    valores.append(novo_valor)\n",
    "\n",
    "valor_2023 = valores[-1]\n",
    "taxa_selic_historico = np.array(taxas_selic)\n",
    "dataset_original = dataset.copy()\n",
    "sem_risco = taxa_selic_historico.mean() / 100\n",
    "rf = sem_risco\n",
    "\n",
    "pesos = np.array([0.04579877, 0.10065911, 0.05203524, 0.07009186, 0.09986174,\n",
    "         0.05894185, 0.01878224, 0.02098791, 0.01420743, 0.01101616,\n",
    "         0.01289593, 0.06706893, 0.09493909, 0.01703658,\n",
    "        0.02083494, 0.02857037, 0.0379588 , 0.01738156, 0.06394153,\n",
    "       0.01380989000000001 , 0.13318007])  "
   ]
  },
  {
   "cell_type": "code",
   "execution_count": 8,
   "metadata": {},
   "outputs": [
    {
     "name": "stdout",
     "output_type": "stream",
     "text": [
      "O CAPM do portifolio é: 8.49 \n"
     ]
    }
   ],
   "source": [
    "dataset = pd.read_csv('excel/acoes.csv')\n",
    "dataset.drop(labels = ['Date'], axis = 1, inplace = True)\n",
    "dataset_normalizado = dataset.copy()\n",
    "for i in dataset.columns:\n",
    "  dataset_normalizado[i] = dataset[i] / dataset[i][0]\n",
    "\n",
    "dataset_taxa_retorno = (dataset_normalizado / dataset_normalizado.shift(1)) - 1\n",
    "dataset_taxa_retorno.fillna(0, inplace=True)  \n",
    "\n",
    "betas = []\n",
    "alphas = []\n",
    "rm = dataset_taxa_retorno['BOVA11.SA'].mean() * 246\n",
    "for ativo in dataset_taxa_retorno.columns[0:-1]:\n",
    "   beta, alpha = np.polyfit(dataset_taxa_retorno['BOVA11.SA'], dataset_taxa_retorno[ativo], 1)\n",
    "   betas.append(beta)\n",
    "   alphas.append(alpha)\n",
    "\n",
    "def visualiza_betas_alphas(betas, alphas):\n",
    "  for i, ativo in enumerate(dataset_taxa_retorno.columns[0:-1]):\n",
    "    #print(i, ativo)\n",
    "    print(ativo, 'beta:', betas[i], 'alpha:', alphas[i] * 100)   \n",
    "def visualiza_capm(capm):\n",
    "  for i, ativo in enumerate(dataset_taxa_retorno.columns[0:-1]):\n",
    "    print(ativo, 'CAPM:', capm[i] * 100)    \n",
    "\n",
    "np.array(alphas).mean() * 100\n",
    "\n",
    "capm_empresas = []\n",
    "for i, ativo in enumerate(dataset_taxa_retorno.columns[0:-1]):\n",
    "  capm_empresas.append(rf + (betas[i] * (rm - rf)))\n",
    "\n",
    "\n",
    "capm_portfolio = np.sum(capm_empresas * pesos) * 100\n",
    "\n",
    "#visualiza_betas_alphas(betas, alphas)  \n",
    "#print()  \n",
    "#visualiza_capm(capm_empresas)\n",
    "print(f\"O CAPM do portifolio é: {round(capm_portfolio,2)} \")"
   ]
  }
 ],
 "metadata": {
  "kernelspec": {
   "display_name": "Python 3 (ipykernel)",
   "language": "python",
   "name": "python3"
  },
  "language_info": {
   "codemirror_mode": {
    "name": "ipython",
    "version": 3
   },
   "file_extension": ".py",
   "mimetype": "text/x-python",
   "name": "python",
   "nbconvert_exporter": "python",
   "pygments_lexer": "ipython3",
   "version": "3.11.5"
  }
 },
 "nbformat": 4,
 "nbformat_minor": 2
}
