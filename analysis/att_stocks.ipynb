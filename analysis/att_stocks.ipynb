{
 "cells": [
  {
   "cell_type": "code",
   "execution_count": 1,
   "metadata": {},
   "outputs": [],
   "source": [
    "import pandas as pd\n",
    "import numpy as np\n",
    "from pandas_datareader import data\n",
    "import matplotlib.pyplot as plt\n",
    "import seaborn as sns\n",
    "import plotly.express as px\n",
    "\n",
    "\n",
    "import yfinance as yf\n",
    "yf.pdr_override()\n"
   ]
  },
  {
   "cell_type": "code",
   "execution_count": 2,
   "metadata": {},
   "outputs": [
    {
     "name": "stdout",
     "output_type": "stream",
     "text": [
      "[*********************100%%**********************]  1 of 1 completed\n",
      "[*********************100%%**********************]  1 of 1 completed\n",
      "[*********************100%%**********************]  1 of 1 completed\n",
      "[*********************100%%**********************]  1 of 1 completed\n",
      "[*********************100%%**********************]  1 of 1 completed\n",
      "[*********************100%%**********************]  1 of 1 completed\n",
      "[*********************100%%**********************]  1 of 1 completed\n",
      "[*********************100%%**********************]  1 of 1 completed\n",
      "[*********************100%%**********************]  1 of 1 completed\n",
      "[*********************100%%**********************]  1 of 1 completed\n",
      "[*********************100%%**********************]  1 of 1 completed\n",
      "[*********************100%%**********************]  1 of 1 completed\n",
      "[*********************100%%**********************]  1 of 1 completed\n",
      "[*********************100%%**********************]  1 of 1 completed\n",
      "[*********************100%%**********************]  1 of 1 completed\n",
      "[*********************100%%**********************]  1 of 1 completed\n",
      "[*********************100%%**********************]  1 of 1 completed\n",
      "[*********************100%%**********************]  1 of 1 completed\n",
      "[*********************100%%**********************]  1 of 1 completed\n",
      "[*********************100%%**********************]  1 of 1 completed\n",
      "[*********************100%%**********************]  1 of 1 completed\n",
      "[*********************100%%**********************]  1 of 1 completed\n"
     ]
    }
   ],
   "source": [
    "acoes = [\n",
    "  \n",
    "    \"VALE3.SA\", #1\n",
    "    #\"RECV3.SA\",\n",
    "    \"KEPL3.SA\", #2\n",
    "    #\"CURY3.SA\",\n",
    "    \"VULC3.SA\",#3\n",
    "    \"LEVE3.SA\",#41\n",
    "    \"GGBR4.SA\",#5\n",
    "    \"LREN3.SA\",#6\n",
    "    \"ALSO3.SA\",#7\n",
    "    \"DIRR3.SA\",#8\n",
    "    \"MILS3.SA\",#9\n",
    "    \"RANI3.SA\",#10\n",
    "    #\"CAMB3.SA\",#11\n",
    "    \"CSUD3.SA\",#12\n",
    "    \"CLSC4.SA\",#13\n",
    "    \"CMIG4.SA\",#14\n",
    "    \"ITSA4.SA\",#15\n",
    "    \"BBAS3.SA\",#16\n",
    "    \"TASA4.SA\",#17\n",
    "    \"SLCE3.SA\",#18\n",
    "    \"B3SA3.SA\",#19\n",
    "    \"PETR4.SA\",#20\n",
    "    \"SUZB3.SA\",#21\n",
    "    \"KLBN4.SA\",#22\n",
    "    \"BOVA11.SA\"\n",
    "\n",
    "        \n",
    "]  \n",
    "\n",
    "\n",
    "acoes_df1 = pd.DataFrame()\n",
    "for acao in acoes:\n",
    "    acoes_df1[acao] = data.get_data_yahoo(acao, start='2012-03-01')['Adj Close']\n",
    "acoes_df1.to_csv('excel/acoes.csv')  \n"
   ]
  }
 ],
 "metadata": {
  "kernelspec": {
   "display_name": "Python 3 (ipykernel)",
   "language": "python",
   "name": "python3"
  },
  "language_info": {
   "codemirror_mode": {
    "name": "ipython",
    "version": 3
   },
   "file_extension": ".py",
   "mimetype": "text/x-python",
   "name": "python",
   "nbconvert_exporter": "python",
   "pygments_lexer": "ipython3",
   "version": "3.11.5"
  }
 },
 "nbformat": 4,
 "nbformat_minor": 2
}
